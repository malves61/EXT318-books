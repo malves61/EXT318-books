{
  "nbformat": 4,
  "nbformat_minor": 0,
  "metadata": {
    "colab": {
      "provenance": [],
      "include_colab_link": true
    },
    "kernelspec": {
      "name": "python3",
      "display_name": "Python 3"
    },
    "language_info": {
      "name": "python"
    }
  },
  "cells": [
    {
      "cell_type": "markdown",
      "metadata": {
        "id": "view-in-github",
        "colab_type": "text"
      },
      "source": [
        "<a href=\"https://colab.research.google.com/github/malves61/EXT318-books/blob/master/classificacao_enun_juris_tcu_avaliacao_Marcelo.ipynb\" target=\"_parent\"><img src=\"https://colab.research.google.com/assets/colab-badge.svg\" alt=\"Open In Colab\"/></a>"
      ]
    },
    {
      "cell_type": "markdown",
      "source": [
        "***\n",
        "## **<center>Trabalho Prático</center>**\n",
        "\n",
        "\n",
        "**<center>Classificação de Textos</center>**\n",
        "***\n",
        "\n",
        "<br>\n",
        "\n",
        "Trata-se de um notebook básico para a elaboração do trabalho prático que consiste em criar um modelo que classifique os enunciados de jurisprudência do TCU nas áreas pré-estabelecidas.\n",
        "\n",
        "Os dados brutos foram coletados manualmente, por 'Área', em  https://pesquisa.apps.tcu.gov.br/#/pesquisa/jurisprudencia-selecionada , clicando em \"PESQUISA POR ÁRVORE DE CLASSIFICAÇÃO\"."
      ],
      "metadata": {
        "id": "ZcL_pqZ9Aae7"
      }
    },
    {
      "cell_type": "markdown",
      "source": [
        "O primeiro passo é a captura do arquivo com as informações:"
      ],
      "metadata": {
        "id": "goYRKXGBB711"
      }
    },
    {
      "cell_type": "code",
      "source": [
        "# Download dos dados\n",
        "!wget https://github.com/alexvaroz/data_science_alem_do_basico/raw/master/enunciados_juris_tcu_220623.xlsx"
      ],
      "metadata": {
        "id": "8wTRQpVZANtR"
      },
      "execution_count": null,
      "outputs": []
    },
    {
      "cell_type": "code",
      "execution_count": null,
      "metadata": {
        "id": "KLZqfHQMYlio"
      },
      "outputs": [],
      "source": [
        " # Importar bibliotecas\n",
        "from time import time\n",
        "import logging\n",
        "import pandas as pd\n",
        "import numpy as np\n",
        "import seaborn as sns\n",
        "import matplotlib.pyplot as plt\n",
        "\n",
        "from sklearn.feature_extraction.text import CountVectorizer\n",
        "from sklearn.feature_extraction.text import TfidfVectorizer\n",
        "from sklearn.feature_extraction.text import TfidfTransformer\n",
        "\n",
        "arquivo_enunciados = 'enunciados_juris_tcu_220623.xlsx'"
      ]
    },
    {
      "cell_type": "markdown",
      "source": [
        "### ANÁLISE EXPLORATÓRIA"
      ],
      "metadata": {
        "id": "2b0i1QnVlYDE"
      }
    },
    {
      "cell_type": "markdown",
      "source": [
        "### LIMPEZA"
      ],
      "metadata": {
        "id": "bZlw_viXFM81"
      }
    },
    {
      "cell_type": "markdown",
      "source": [
        "## NORMALIZAÇÃO"
      ],
      "metadata": {
        "id": "LGfA_vUjFwSN"
      }
    },
    {
      "cell_type": "markdown",
      "source": [
        "### VETORIZAÇÃO DOS TEXTOS"
      ],
      "metadata": {
        "id": "xLR4z3T0G8vC"
      }
    },
    {
      "cell_type": "markdown",
      "source": [
        "### MODELAGEM"
      ],
      "metadata": {
        "id": "cUL7A5-snvJs"
      }
    },
    {
      "cell_type": "markdown",
      "source": [
        "### AVALIAÇÃO"
      ],
      "metadata": {
        "id": "uR3gXUqJY_X1"
      }
    }
  ]
}